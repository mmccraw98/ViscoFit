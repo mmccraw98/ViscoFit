{
 "cells": [
  {
   "cell_type": "code",
   "execution_count": 1,
   "id": "impaired-review",
   "metadata": {},
   "outputs": [],
   "source": [
    "import numpy as np\n",
    "import viscofit as vf"
   ]
  },
  {
   "cell_type": "markdown",
   "id": "coordinate-alignment",
   "metadata": {},
   "source": [
    "# Load .IBW Files"
   ]
  },
  {
   "cell_type": "code",
   "execution_count": 2,
   "id": "mediterranean-invitation",
   "metadata": {},
   "outputs": [],
   "source": [
    "###### THIS IS PLACE HOLDER, MUST LOAD AFM DATA\n",
    "times = [np.linspace(0, 1, 1000) for i in range(3)]\n",
    "indentations = [(i + 1) * 100e-9 * t / max(t) for i, t in enumerate(times)]\n",
    "radii = [(i + 1) * 50e-9 for i in range(len(times))]\n",
    "forces = [vf.forceMaxwell_LeeRadok(np.array([1e5, 1e6, 1e-3]), t, h, r) for t, h, r in zip(times, indentations, radii)]"
   ]
  },
  {
   "cell_type": "markdown",
   "id": "minor-karma",
   "metadata": {},
   "source": [
    "# Fit Standard Models"
   ]
  },
  {
   "cell_type": "markdown",
   "id": "introductory-teddy",
   "metadata": {},
   "source": [
    "### ----------------\n",
    "### Maxwell Fit\n",
    "### ----------------"
   ]
  },
  {
   "cell_type": "markdown",
   "id": "alien-poland",
   "metadata": {},
   "source": [
    "### maxwellModel(forces, times, indentations, radii, E_logbounds=(1, 9), T_logbounds=(-5, 0)\n",
    "\n",
    "##### initializes an instance of the maxwellModel class used for generating fits, of experimentally obtained force-distance data all belonging to the same sample, to a maxwell model which corresponds to the sample's viscoelastic behavior\n",
    "##### :param forces: either list of numpy arrays or single numpy array corresponding to the force signals from an AFM\n",
    "##### :param times: either list of numpy arrays or single numpy array corresponding to the time signals from an AFM\n",
    "##### :param indentations: either list of numpy arrays or single numpy array corresponding to the indentation signals from an AFM\n",
    "##### :param radii: either list of floats or single float corresponding to the tip radii of an AFM\n",
    "##### :param E_logbounds: tuple (float, float) high and low log bound for the elastic elements in the model\n",
    "##### :param T_logbounds: tuple (float, float) high and low log bound for the time constants in the model"
   ]
  },
  {
   "cell_type": "code",
   "execution_count": 3,
   "id": "abstract-worst",
   "metadata": {},
   "outputs": [],
   "source": [
    "# create a maxwellModel instance\n",
    "# load the AFM forces, times, indentations, and radii\n",
    "# define the logbounds for E to be between 4 and 7 -> (10^4, 10^7)\n",
    "# define the logbounds for T to be between -4 and -2 -> (10^-4, 10^-2)\n",
    "model1 = vf.maxwellModel(forces=forces, times=times, indentations=indentations, \n",
    "                         radii=radii, E_logbounds=(4, 7), T_logbounds=(-4, -2))"
   ]
  },
  {
   "cell_type": "markdown",
   "id": "automotive-output",
   "metadata": {},
   "source": [
    "### maxwellModel.fit(maxiter=1000, max_model_size=4, fit_sequential=True, num_attempts=5)\n",
    "\n",
    "##### fit experimental force distance curve(s) to maxwell model of arbitrary size using a nelder-mead simplex which typically gives good fits rather quickly\n",
    "##### :param maxiter: int maximum iterations to perform for each fitting attempt (larger number gives longer run time)\n",
    "##### :param max_model_size: int largest number of arms per maxwell model to test (going larger tends to give poor and unphysical fits)\n",
    "##### :param fit_sequential: bool whether or not to fit sequentially (cascade fit from previous model as the initial guess of the next) (RECOMMENDED)\n",
    "##### :param num_attempts: int number of fitting attempts to make per fit, larger number will give more statistically significant results, but will take longer\n",
    "##### :return: dict {best_fit, (numpy array of final best fit params), final_cost, (float of final cost for the best fit params), time, (float of time taken to generate best fit)}"
   ]
  },
  {
   "cell_type": "code",
   "execution_count": 4,
   "id": "passive-minister",
   "metadata": {},
   "outputs": [
    {
     "data": {
      "text/plain": [
       "{'final_params': array([1.54477968e+05, 8.48085713e+05, 8.37937090e-04, 6.03752940e+04,\n",
       "        1.21614486e-03, 3.70607658e+04, 5.22429507e-03]),\n",
       " 'final_cost': 4.219326239585761e-21,\n",
       " 'time': 8.0644211769104,\n",
       " 'trial_variance': 5.795036724099341e-26}"
      ]
     },
     "execution_count": 4,
     "metadata": {},
     "output_type": "execute_result"
    }
   ],
   "source": [
    "# fit the maxwellModel instance to the experimental data using Nelder-Mead\n",
    "# at most, perform 1000 iterations per fit attempt\n",
    "# the largest possible model will have 3 arms\n",
    "# the model will be fit sequentially, starting with a 1 arm, then using the best 1 arm parameters as an initial guess\n",
    "# for the 2 arm model, and the best 2 arm model for the 3 arm model\n",
    "# perform 10 fit attempts per model\n",
    "model1.fit(maxiter=1000, max_model_size=3, fit_sequential=True, num_attempts=10)"
   ]
  },
  {
   "cell_type": "markdown",
   "id": "located-conspiracy",
   "metadata": {},
   "source": [
    "### maxwellModel.fit_slow(maxiter=1000, max_model_size=4, fit_sequential=True, num_attempts=5)\n",
    "\n",
    "##### fit experimental force distance curve(s) to maxwell model of arbitrary size using simulated annealing with a nelder-mead simplex local search, this is very computationally costly and will take a very long time though typically results in much better fits\n",
    "\n",
    "##### :param maxiter: int maximum iterations to perform for each fitting attempt (larger number gives longer run time)\n",
    "##### :param max_model_size: int largest number of arms per maxwell model to test (going larger tends to give poor and unphysical fits)\n",
    "##### :param fit_sequential: bool whether or not to fit sequentially (cascade fit from previous model as the initial guess of the next) (RECOMMENDED)\n",
    "##### :param num_attempts: int number of fitting attempts to make per fit, larger number will give more statistically significant results, but will take longer\n",
    "##### :return: dict {best_fit, (numpy array of final best fit params), final_cost, (float of final cost for the best fit params), time, (float of time taken to generate best fit)}"
   ]
  },
  {
   "cell_type": "code",
   "execution_count": 5,
   "id": "careful-engineering",
   "metadata": {},
   "outputs": [
    {
     "data": {
      "text/plain": [
       "{'final_params': array([4.33040679e+04, 1.50822988e+04, 1.40303185e-03, 1.04161568e+06,\n",
       "        1.14461170e-03]),\n",
       " 'final_cost': 2.0407387918323205e-19,\n",
       " 'time': 30.40364909172058,\n",
       " 'trial_variance': 4.069137729537026e-26}"
      ]
     },
     "execution_count": 5,
     "metadata": {},
     "output_type": "execute_result"
    }
   ],
   "source": [
    "# fit the maxwellModel instance to the experimental data using Simulated Annealing with a Nelder-Mead local search\n",
    "# at most, perform 500 iterations per fit attempt\n",
    "# the largest possible model will have 3 arms\n",
    "# the model will not be fit sequentially, fitting all the parameters at once\n",
    "# perform 7 fit attempts per model\n",
    "model1.fit_slow(maxiter=500, max_model_size=3, fit_sequential=False, num_attempts=7)"
   ]
  },
  {
   "cell_type": "markdown",
   "id": "separated-consortium",
   "metadata": {},
   "source": [
    "### ----------------\n",
    "### Kelvin-Voigt Fit\n",
    "### ----------------"
   ]
  },
  {
   "cell_type": "markdown",
   "id": "differential-ready",
   "metadata": {},
   "source": [
    "### kelvinVoigtModel(forces, times, indentations, radii, J_logbounds=(-9, -1), T_logbounds=(-5, 0))\n",
    "\n",
    "##### initializes an instance of the kelvinVoigtModel class used for generating fits, of experimentally obtained force-distance data all belonging to the same sample, to a kelvin-voigt model which corresponds to the sample's viscoelastic behavior\n",
    "##### :param forces: either list of numpy arrays or single numpy array corresponding to the force signals from an AFM\n",
    "##### :param times: either list of numpy arrays or single numpy array corresponding to the time signals from an AFM\n",
    "##### :param indentations: either list of numpy arrays or single numpy array corresponding to the indentation signals from an AFM\n",
    "##### :param radii: either list of floats or single float corresponding to the tip radii of an AFM\n",
    "##### :param J_logbounds: tuple (float, float) high and low log bound for the compliance elements in the model\n",
    "##### :param T_logbounds: tuple (float, float) high and low log bound for the time constants in the model"
   ]
  },
  {
   "cell_type": "code",
   "execution_count": 6,
   "id": "piano-technology",
   "metadata": {},
   "outputs": [],
   "source": [
    "# create a kelvinVoigtModel instance\n",
    "# load the AFM forces, times, indentations, and radii\n",
    "# define the logbounds for J to be between -10 and -5 -> (10^-10, 10^-5)\n",
    "# define the logbounds for T to be between -5 and -3 -> (10^-5, 10^-3)\n",
    "model2 = vf.kelvinVoigtModel(forces=forces, times=times, indentations=indentations, \n",
    "                             radii=radii, J_logbounds=(-10, -5), T_logbounds=(-5, -3))"
   ]
  },
  {
   "cell_type": "markdown",
   "id": "stupid-constitutional",
   "metadata": {},
   "source": [
    "### kelvinVoigtModel.fit(maxiter=1000, max_model_size=4, fit_sequential=True, num_attempts=5)\n",
    "\n",
    "##### fit experimental force distance curve(s) to kelvin-voigt model of arbitrary size using a nelder-mead simplex which typically gives good fits rather quickly\n",
    "##### :param maxiter: int maximum iterations to perform for each fitting attempt (larger number gives longer run time)\n",
    "##### :param max_model_size: int largest number of arms per maxwell model to test (going larger tends to give poor and unphysical fits)\n",
    "##### :param fit_sequential: bool whether or not to fit sequentially (cascade fit from previous model as the initial guess of the next) (RECOMMENDED)\n",
    "##### :param num_attempts: int number of fitting attempts to make per fit, larger number will give more statistically significant results, but will take longer\n",
    "##### :return: dict {best_fit, (numpy array of final best fit params), final_cost, (float of final cost for the best fit params), time, (float of time taken to generate best fit)}"
   ]
  },
  {
   "cell_type": "code",
   "execution_count": 7,
   "id": "sticky-cleaner",
   "metadata": {},
   "outputs": [
    {
     "data": {
      "text/plain": [
       "{'final_params': array([1.00000000e-10, 1.00189408e-10, 2.80294386e-04]),\n",
       " 'final_cost': 2.6191285959191242e-15,\n",
       " 'time': 4.150892734527588,\n",
       " 'trial_variance': 7.951320361018465e-32}"
      ]
     },
     "execution_count": 7,
     "metadata": {},
     "output_type": "execute_result"
    }
   ],
   "source": [
    "# fit the kelvinVoigtModel instance to the experimental data using Nelder-Mead\n",
    "# at most, perform 1250 iterations per fit attempt\n",
    "# the largest possible model will have 2 arms\n",
    "# the model will be fit sequentially, starting with a 1 arm, then using the best 1 arm parameters as an initial guess\n",
    "# for the 2 arm model, and the best 2 arm model for the 3 arm model\n",
    "# perform 6 fit attempts per model\n",
    "model2.fit(maxiter=1250, max_model_size=2, fit_sequential=True, num_attempts=6)"
   ]
  },
  {
   "cell_type": "markdown",
   "id": "major-standing",
   "metadata": {},
   "source": [
    "### kelvinVoigtModel.fit_slow(maxiter=1000, max_model_size=4, fit_sequential=True, num_attempts=5)\n",
    "\n",
    "##### fit experimental force distance curve(s) to kelvin-voigt model of arbitrary size using simulated annealing with a nelder-mead simplex local search, this is very computationally costly and will take a very long time though typically results in much better fits\n",
    "##### :param maxiter: int maximum iterations to perform for each fitting attempt (larger number gives longer run time)\n",
    "##### :param max_model_size: int largest number of arms per maxwell model to test (going larger tends to give poor and unphysical fits)\n",
    "##### :param fit_sequential: bool whether or not to fit sequentially (cascade fit from previous model as the initial guess of the next) (RECOMMENDED)\n",
    "##### :param num_attempts: int number of fitting attempts to make per fit, larger number will give more statistically significant results, but will take longer\n",
    "##### :return: dict {best_fit, (numpy array of final best fit params), final_cost, (float of final cost for the best fit params), time, (float of time taken to generate best fit)}"
   ]
  },
  {
   "cell_type": "code",
   "execution_count": 8,
   "id": "atomic-discretion",
   "metadata": {},
   "outputs": [
    {
     "data": {
      "text/plain": [
       "{'final_params': array([7.14803949e-10, 1.18980335e-08, 3.70806849e-04]),\n",
       " 'final_cost': 2.0331718638029487e-13,\n",
       " 'time': 1.1828334331512451,\n",
       " 'trial_variance': 7.782956648694472e-19}"
      ]
     },
     "execution_count": 8,
     "metadata": {},
     "output_type": "execute_result"
    }
   ],
   "source": [
    "# fit the kelvinVoigtModel instance to the experimental data using Simulated Annealing with a Nelder-Mead local search\n",
    "# at most, perform 100 iterations per fit attempt\n",
    "# the largest possible model will have 5 arms\n",
    "# the model will not be fit sequentially, fitting all the parameters at once\n",
    "# perform 3 fit attempts per model\n",
    "model2.fit_slow(maxiter=100, max_model_size=5, fit_sequential=False, num_attempts=3)"
   ]
  },
  {
   "cell_type": "markdown",
   "id": "horizontal-sunrise",
   "metadata": {},
   "source": [
    "### ----------------\n",
    "### Power Law Fit\n",
    "### ----------------"
   ]
  },
  {
   "cell_type": "markdown",
   "id": "ranging-frank",
   "metadata": {},
   "source": [
    "### powerLawModel(forces, times, indentations, radii, E0_logbounds=(1, 9), a_logbounds=(-5, 0))\n",
    "\n",
    "##### initializes an instance of the customModel class used for generating fits, of experimentally obtained force-distance data all belonging to the same sample, to a power law rheology model which corresponds to the sample's viscoelastic behavior\n",
    "##### :param forces: either list of numpy arrays or single numpy array corresponding to the force signals from an AFM\n",
    "##### :param times: either list of numpy arrays or single numpy array corresponding to the time signals from an AFM\n",
    "##### :param indentations: either list of numpy arrays or single numpy array corresponding to the indentation signals from an AFM\n",
    "##### :param radii: either list of floats or single float corresponding to the tip radii of an AFM\n",
    "##### :param E0_logbounds: tuple (float, float) high and low log bound for the compliance elements in the model\n",
    "##### :param a_logbounds: tuple (float, float) high and low log bound for the time constants in the model"
   ]
  },
  {
   "cell_type": "code",
   "execution_count": 9,
   "id": "formal-bench",
   "metadata": {},
   "outputs": [],
   "source": [
    "# create a powerLawModel instance\n",
    "# load the AFM forces, times, indentations, and radii\n",
    "# define the logbounds for E0 to be between 1 and 11 -> (10^1, 10^11)\n",
    "# define the logbounds for a to be between -5 and 1 -> (10^-5, 10^1)\n",
    "model3 = vf.powerLawModel(forces=forces, times=times, indentations=indentations, \n",
    "                          radii=radii, E0_logbounds=(1, 11), a_logbounds=(-5, 1))"
   ]
  },
  {
   "cell_type": "markdown",
   "id": "soviet-bridges",
   "metadata": {},
   "source": [
    "### powerLawModel.fit(maxiter=1000, num_attempts=5)\n",
    "\n",
    "##### fit experimental force distance curve(s) to power law rheology model using a nelder-mead simplex which typically gives good fits rather quickly\n",
    "##### :param maxiter: int maximum iterations to perform for each fitting attempt (larger number gives longer run time)\n",
    "##### :param num_attempts: int number of fitting attempts to make per fit, larger number will give more statistically significant results, but will take longer\n",
    "##### :return: dict {best_fit, (numpy array of final best fit params), final_cost, (float of final cost for the best fit params), time, (float of time taken to generate best fit)}"
   ]
  },
  {
   "cell_type": "code",
   "execution_count": 10,
   "id": "suitable-wealth",
   "metadata": {},
   "outputs": [
    {
     "data": {
      "text/plain": [
       "{'final_params': array([3.50811979e+08, 1.00000000e-05]),\n",
       " 'final_cost': 1.7989097700117333e-07,\n",
       " 'time': 6.8477067947387695,\n",
       " 'trial_variance': 2.3707288086815015e-39}"
      ]
     },
     "execution_count": 10,
     "metadata": {},
     "output_type": "execute_result"
    }
   ],
   "source": [
    "# fit the powerLawModel instance to the experimental data using Nelder-Mead\n",
    "# at most, perform 2000 iterations per fit attempt\n",
    "# perform 9 fit attempts per model\n",
    "model3.fit(maxiter=2000, num_attempts=9)"
   ]
  },
  {
   "cell_type": "markdown",
   "id": "august-knight",
   "metadata": {},
   "source": [
    "### powerLawModel.fit_slow(maxiter=1000, num_attempts=5)\n",
    "\n",
    "##### fit experimental force distance curve(s) to power law rheology model using simulated annealing with a nelder-mead simplex local search, this is very computationally costly and will take a very long time though typically results in much better fits\n",
    "##### :param maxiter: int maximum iterations to perform for each fitting attempt (larger number gives longer run time)\n",
    "##### :param num_attempts: int number of fitting attempts to make per fit, larger number will give more statistically significant results, but will take longer\n",
    "##### :return: dict {best_fit, (numpy array of final best fit params), final_cost, (float of final cost for the best fit params), time, (float of time taken to generate best fit)}"
   ]
  },
  {
   "cell_type": "code",
   "execution_count": 11,
   "id": "married-religious",
   "metadata": {},
   "outputs": [
    {
     "data": {
      "text/plain": [
       "{'final_params': array([3.50811978e+08, 1.00000000e-05]),\n",
       " 'final_cost': 1.798909770011743e-07,\n",
       " 'time': 5.776541233062744,\n",
       " 'trial_variance': 7.193380293082244e-22}"
      ]
     },
     "execution_count": 11,
     "metadata": {},
     "output_type": "execute_result"
    }
   ],
   "source": [
    "# fit the powerLawModel instance to the experimental data using Simulated Annealing with a Nelder-Mead local search\n",
    "# at most, perform 500 iterations per fit attempt\n",
    "# perform 4 fit attempts per model\n",
    "model3.fit_slow(maxiter=500, num_attempts=4)"
   ]
  },
  {
   "cell_type": "markdown",
   "id": "upper-estimate",
   "metadata": {},
   "source": [
    "# --------------------------------------\n",
    "# Fit Custom Defined Models\n",
    "# --------------------------------------"
   ]
  },
  {
   "cell_type": "markdown",
   "id": "random-syria",
   "metadata": {},
   "source": [
    "### Define your own function to be fit to the experimental data"
   ]
  },
  {
   "cell_type": "markdown",
   "id": "demonstrated-relationship",
   "metadata": {},
   "source": [
    "### customModel(forces, times, indentations, radi)\n",
    "\n",
    "##### initializes an instance of the customModel class used for generating fits, of experimentally obtained force-distance data all belonging to the same sample, to a custom defined rheology model which corresponds to the sample's viscoelastic behavior\n",
    "##### :param forces: either list of numpy arrays or single numpy array corresponding to the force signals from an AFM\n",
    "##### :param times: either list of numpy arrays or single numpy array corresponding to the time signals from an AFM\n",
    "##### :param indentations: either list of numpy arrays or single numpy array corresponding to the indentation signals from an AFM\n",
    "##### :param radii: either list of floats or single float corresponding to the tip radii of an AFM"
   ]
  },
  {
   "cell_type": "code",
   "execution_count": 12,
   "id": "optional-concrete",
   "metadata": {},
   "outputs": [],
   "source": [
    "# create a customModel instance\n",
    "# load the AFM forces, times, indentations, and radii\n",
    "model4 = vf.customModel(forces=forces, times=times, indentations=indentations, radii=radii)"
   ]
  },
  {
   "cell_type": "markdown",
   "id": "settled-migration",
   "metadata": {},
   "source": [
    "### customModel.fit(function, training_data, bounds, maxiter=1000, num_attempts=5)\n",
    "\n",
    "##### fit experimental observable of your choice to a custom model for the observable using a nelder-mead simplex which typically gives good fits rather quickly\n",
    "##### :param function: function for the desired observable to be predicted\n",
    "##### :param training_data: either numpy array or list of numpy arrays the experimental data to be replicated by the function being trained\n",
    "##### :param bounds: (n, 2) numpy array of upper and lower bounds: [[lower1, upper1], ... [lowerN, upperN]]\n",
    "##### :param maxiter: int maximum iterations to perform for each fitting attempt (larger number gives longer run time)\n",
    "##### :param num_attempts: int number of fitting attempts to make per fit, larger number will give more statistically significant results, but will take longer\n",
    "##### :return: dict {best_fit, (numpy array of final best fit params), final_cost, (float of final cost for the best fit params), time, (float of time taken to generate best fit)}"
   ]
  },
  {
   "cell_type": "code",
   "execution_count": 13,
   "id": "alive-failure",
   "metadata": {},
   "outputs": [],
   "source": [
    "# define the custom function that the customModel class will fit\n",
    "# in this case, we want to fit a function to predict force, given the radius and indentation signal as well as a\n",
    "# set of parameters\n",
    "\n",
    "def custom_force_func(params):\n",
    "    # VERY IMPORTANT NOTES: \n",
    "    # the function MUST take in parameters as an argument and MUST output a single vector observable (i.e. force here)\n",
    "    # the observables (in this case radius and indentation) MUST come from the observables in the model \n",
    "    # possible obeservables to use in creating custom functions: (model4.radii, model4.indentation, model4.force, model4.dts)\n",
    "    # F( t ) = R * p1 * h( t )^p2\n",
    "    return model4.radii * params[0] * model4.indentation ** params[1]"
   ]
  },
  {
   "cell_type": "code",
   "execution_count": 14,
   "id": "fewer-virus",
   "metadata": {},
   "outputs": [],
   "source": [
    "# define the bounds\n",
    "# in the case of the function that we made above: params is a (2, ) numpy array: array([p1, p2])\n",
    "# thus, the bounds must be in the following form:\n",
    "# array([[p1 lower bounds, p1 upper bounds], \n",
    "#        [p2 lower bounds, p2 upper bounds]])\n",
    "\n",
    "bounds = np.array([[1, 100], [0, 10]])"
   ]
  },
  {
   "cell_type": "code",
   "execution_count": 15,
   "id": "eastern-collins",
   "metadata": {},
   "outputs": [
    {
     "data": {
      "text/plain": [
       "{'final_params': array([1.00000000e+02, 5.00387264e-19]),\n",
       " 'final_cost': 3.1209122964812775e-06,\n",
       " 'time': 0.734046220779419,\n",
       " 'trial_variance': 3.15504898239659e-13}"
      ]
     },
     "execution_count": 15,
     "metadata": {},
     "output_type": "execute_result"
    }
   ],
   "source": [
    "# fit the customModel instance to the experimental data using Nelder-Mead\n",
    "# define the function to fit as the custom_force_func that we made above\n",
    "# define the training data as the force signal in model4 (we will fit the funciton to this data)\n",
    "# at most, perform 2000 iterations per fit attempt\n",
    "# perform 9 fit attempts per model\n",
    "model4.fit(function=custom_force_func, training_data=model4.force, bounds=bounds, maxiter=2000, num_attempts=9)"
   ]
  },
  {
   "cell_type": "markdown",
   "id": "latest-insulation",
   "metadata": {},
   "source": [
    "### customModel.fit_slow(function, training_data, bounds, maxiter=1000, num_attempts=5)\n",
    "        \n",
    "##### fit experimental observable of your choice to a custom model for the observable using simulated annealing with a nelder-mead simplex local search, this is very computationally costly and will take a very long time though typically results in much better fits\n",
    "##### :param function: function for the desired observable to be predicted\n",
    "##### :param training_data: either numpy array or list of numpy arrays the experimental data to be replicated by the function being trained\n",
    "##### :param bounds: (n, 2) numpy array of upper and lower bounds: [[lower1, upper1], ... [lowerN, upperN]]\n",
    "##### :param maxiter: int maximum iterations to perform for each fitting attempt (larger number gives longer run time)\n",
    "##### :param num_attempts: int number of fitting attempts to make per fit, larger number will give more statistically significant results, but will take longer\n",
    "##### :return: dict {best_fit, (numpy array of final best fit params), final_cost, (float of final cost for the best fit params), time, (float of time taken to generate best fit)}"
   ]
  },
  {
   "cell_type": "code",
   "execution_count": 16,
   "id": "controlled-praise",
   "metadata": {},
   "outputs": [
    {
     "data": {
      "text/plain": [
       "{'final_params': array([9.99998194e+01, 4.32750776e-08]),\n",
       " 'final_cost': 3.1209147495911757e-06,\n",
       " 'time': 2.4644052982330322,\n",
       " 'trial_variance': 3.2658385256935185e-15}"
      ]
     },
     "execution_count": 16,
     "metadata": {},
     "output_type": "execute_result"
    }
   ],
   "source": [
    "# fit the powerLawModel instance to the experimental data using Simulated Annealing with a Nelder-Mead local search\n",
    "# define the function to fit as the custom_force_func that we made above\n",
    "# define the training data as the force signal in model4 (we will fit the funciton to this data)\n",
    "# at most, perform 1000 iterations per fit attempt\n",
    "# perform 4 fit attempts per model\n",
    "model4.fit_slow(function=custom_force_func, training_data=model4.force, bounds=bounds, maxiter=1000, num_attempts=4)"
   ]
  },
  {
   "cell_type": "markdown",
   "id": "invisible-active",
   "metadata": {},
   "source": [
    "# Generate Maps"
   ]
  },
  {
   "cell_type": "code",
   "execution_count": 17,
   "id": "above-charity",
   "metadata": {},
   "outputs": [
    {
     "name": "stdout",
     "output_type": "stream",
     "text": [
      "96.0\r"
     ]
    }
   ],
   "source": [
    "surface_scan_FD_data = np.array([[forces[0], times[0], indentations[0], radii[0]] for i in range(25)], dtype='object')\n",
    "scan_data = []\n",
    "for i, scan in enumerate(surface_scan_FD_data):\n",
    "    print(100 * i / len(surface_scan_FD_data), end='\\r')\n",
    "    model = vf.maxwellModel(scan[0], scan[1], scan[2], scan[3], E_logbounds=(4, 8), T_logbounds=(-4, -2))\n",
    "    scan_data.append(model.fit()['final_params'])"
   ]
  },
  {
   "cell_type": "code",
   "execution_count": 19,
   "id": "considerable-riverside",
   "metadata": {},
   "outputs": [
    {
     "data": {
      "text/plain": [
       "<matplotlib.image.AxesImage at 0x26b35a25b50>"
      ]
     },
     "execution_count": 19,
     "metadata": {},
     "output_type": "execute_result"
    },
    {
     "data": {
      "image/png": "[encoded data removed]",
      "text/plain": [
       "<Figure size 432x288 with 1 Axes>"
      ]
     },
     "metadata": {
      "needs_background": "light"
     },
     "output_type": "display_data"
    }
   ],
   "source": [
    "glassy_moduli = np.array([sum(scan[0] + scan[1::2]) for scan in scan_data]).reshape(5, 5)\n",
    "import matplotlib.pyplot as plt\n",
    "plt.imshow(glassy_moduli)"
   ]
  },
  {
   "cell_type": "code",
   "execution_count": 20,
   "id": "continental-budapest",
   "metadata": {},
   "outputs": [
    {
     "data": {
      "text/plain": [
       "array([[1100000.        , 1446835.86746891, 1099999.99973938,\n",
       "        1172573.62959897, 1204994.26084219],\n",
       "       [1319573.73170599, 1149222.76587801, 1956221.84009414,\n",
       "        1321863.59432642, 1203495.5141261 ],\n",
       "       [1479683.21805208, 3303407.00099939, 1177682.5040746 ,\n",
       "        1100000.        , 1276137.5561216 ],\n",
       "       [1673328.50227645, 1408896.86227694, 2963549.49976849,\n",
       "        1369955.22463789, 1099999.99999769],\n",
       "       [1100003.33911183, 1100002.51821685, 1282530.08001054,\n",
       "        1100000.03866754, 1631310.25374126]])"
      ]
     },
     "execution_count": 20,
     "metadata": {},
     "output_type": "execute_result"
    }
   ],
   "source": [
    "glassy_moduli"
   ]
  }
 ],
 "metadata": {
  "kernelspec": {
   "display_name": "Python 3",
   "language": "python",
   "name": "python3"
  },
  "language_info": {
   "codemirror_mode": {
    "name": "ipython",
    "version": 3
   },
   "file_extension": ".py",
   "mimetype": "text/x-python",
   "name": "python",
   "nbconvert_exporter": "python",
   "pygments_lexer": "ipython3",
   "version": "3.8.5"
  }
 },
 "nbformat": 4,
 "nbformat_minor": 5
}
