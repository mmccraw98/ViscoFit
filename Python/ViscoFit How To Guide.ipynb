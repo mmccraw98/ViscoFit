{
 "cells": [
  {
   "cell_type": "code",
   "execution_count": 1,
   "id": "unique-joint",
   "metadata": {},
   "outputs": [],
   "source": [
    "import numpy as np\n",
    "import viscofit as vf"
   ]
  },
  {
   "cell_type": "markdown",
   "id": "grand-economics",
   "metadata": {},
   "source": [
    "# Load .IBW Files"
   ]
  },
  {
   "cell_type": "code",
   "execution_count": 2,
   "id": "practical-central",
   "metadata": {},
   "outputs": [],
   "source": [
    "###### THIS IS PLACE HOLDER, MUST LOAD AFM DATA\n",
    "times = [np.linspace(0, 1, 1000) for i in range(3)]\n",
    "indentations = [(i + 1) * 100e-9 * t / max(t) for i, t in enumerate(times)]\n",
    "radii = [(i + 1) * 50e-9 for i in range(len(times))]\n",
    "forces = [vf.forceMaxwell_LeeRadok(np.array([1e5, 1e6, 1e-3]), t, h, r) for t, h, r in zip(times, indentations, radii)]"
   ]
  },
  {
   "cell_type": "markdown",
   "id": "coral-password",
   "metadata": {},
   "source": [
    "# Fit Standard Models"
   ]
  },
  {
   "cell_type": "markdown",
   "id": "funded-nancy",
   "metadata": {},
   "source": [
    "### ----------------\n",
    "### Maxwell Fit\n",
    "### ----------------"
   ]
  },
  {
   "cell_type": "markdown",
   "id": "meaning-weekly",
   "metadata": {},
   "source": [
    "### maxwellModel(forces, times, indentations, radii, E_logbounds=(1, 9), T_logbounds=(-5, 0)\n",
    "\n",
    "##### initializes an instance of the maxwellModel class used for generating fits, of experimentally obtained force-distance data all belonging to the same sample, to a maxwell model which corresponds to the sample's viscoelastic behavior\n",
    "##### :param forces: either list of numpy arrays or single numpy array corresponding to the force signals from an AFM\n",
    "##### :param times: either list of numpy arrays or single numpy array corresponding to the time signals from an AFM\n",
    "##### :param indentations: either list of numpy arrays or single numpy array corresponding to the indentation signals from an AFM\n",
    "##### :param radii: either list of floats or single float corresponding to the tip radii of an AFM\n",
    "##### :param E_logbounds: tuple (float, float) high and low log bound for the elastic elements in the model\n",
    "##### :param T_logbounds: tuple (float, float) high and low log bound for the time constants in the model"
   ]
  },
  {
   "cell_type": "code",
   "execution_count": 3,
   "id": "thorough-clothing",
   "metadata": {},
   "outputs": [],
   "source": [
    "# create a maxwellModel instance\n",
    "# load the AFM forces, times, indentations, and radii\n",
    "# define the logbounds for E to be between 4 and 7 -> (10^4, 10^7)\n",
    "# define the logbounds for T to be between -4 and -2 -> (10^-4, 10^-2)\n",
    "model1 = vf.maxwellModel(forces=forces, times=times, indentations=indentations, \n",
    "                         radii=radii, E_logbounds=(4, 7), T_logbounds=(-4, -2))"
   ]
  },
  {
   "cell_type": "markdown",
   "id": "distinct-startup",
   "metadata": {},
   "source": [
    "### maxwellModel.fit(maxiter=1000, max_model_size=4, fit_sequential=True, num_attempts=5)\n",
    "\n",
    "##### fit experimental force distance curve(s) to maxwell model of arbitrary size using a nelder-mead simplex which typically gives good fits rather quickly\n",
    "##### :param maxiter: int maximum iterations to perform for each fitting attempt (larger number gives longer run time)\n",
    "##### :param max_model_size: int largest number of arms per maxwell model to test (going larger tends to give poor and unphysical fits)\n",
    "##### :param fit_sequential: bool whether or not to fit sequentially (cascade fit from previous model as the initial guess of the next) (RECOMMENDED)\n",
    "##### :param num_attempts: int number of fitting attempts to make per fit, larger number will give more statistically significant results, but will take longer\n",
    "##### :return: dict {best_fit, (numpy array of final best fit params), final_cost, (float of final cost for the best fit params), time, (float of time taken to generate best fit)}"
   ]
  },
  {
   "cell_type": "code",
   "execution_count": 4,
   "id": "hollywood-isaac",
   "metadata": {},
   "outputs": [
    {
     "name": "stderr",
     "output_type": "stream",
     "text": [
      "C:\\Users\\Windows\\PycharmProjects\\mat-phys\\viscofit.py:164: RuntimeWarning: overflow encountered in exp\n",
      "  relaxance = - sum(model_params[1::2] / model_params[2::2] * exp(- time_matrix / model_params[2::2]), axis=1)\n",
      "C:\\Users\\Windows\\PycharmProjects\\mat-phys\\viscofit.py:164: RuntimeWarning: overflow encountered in multiply\n",
      "  relaxance = - sum(model_params[1::2] / model_params[2::2] * exp(- time_matrix / model_params[2::2]), axis=1)\n",
      "C:\\Users\\Windows\\PycharmProjects\\mat-phys\\viscofit.py:222: RuntimeWarning: overflow encountered in square\n",
      "  sse = sum((self.LR_force(model_params=model_params) - self.force) ** 2, axis=0)\n",
      "C:\\Users\\Windows\\PycharmProjects\\mat-phys\\viscofit.py:158: RuntimeWarning: overflow encountered in exp\n",
      "  relaxance = - sum(model_params[0::2] / model_params[1::2] * exp(- time_matrix / model_params[1::2]), axis=1)\n",
      "C:\\Users\\Windows\\PycharmProjects\\mat-phys\\viscofit.py:158: RuntimeWarning: overflow encountered in multiply\n",
      "  relaxance = - sum(model_params[0::2] / model_params[1::2] * exp(- time_matrix / model_params[1::2]), axis=1)\n"
     ]
    },
    {
     "data": {
      "text/plain": [
       "{'final_params': array([1.e+05, 1.e+06, 1.e-03]),\n",
       " 'final_cost': 4.4261913735150936e-38,\n",
       " 'time': 6.554159641265869,\n",
       " 'trial_variance': 5.1389459725903105e-25}"
      ]
     },
     "execution_count": 4,
     "metadata": {},
     "output_type": "execute_result"
    }
   ],
   "source": [
    "# fit the maxwellModel instance to the experimental data using Nelder-Mead\n",
    "# at most, perform 1000 iterations per fit attempt\n",
    "# the largest possible model will have 3 arms\n",
    "# the model will be fit sequentially, starting with a 1 arm, then using the best 1 arm parameters as an initial guess\n",
    "# for the 2 arm model, and the best 2 arm model for the 3 arm model\n",
    "# perform 10 fit attempts per model\n",
    "model1.fit(maxiter=1000, max_model_size=3, fit_sequential=True, num_attempts=10)"
   ]
  },
  {
   "cell_type": "markdown",
   "id": "daily-chile",
   "metadata": {},
   "source": [
    "### maxwellModel.fit_slow(maxiter=1000, max_model_size=4, fit_sequential=True, num_attempts=5)\n",
    "\n",
    "##### fit experimental force distance curve(s) to maxwell model of arbitrary size using simulated annealing with a nelder-mead simplex local search, this is very computationally costly and will take a very long time though typically results in much better fits\n",
    "\n",
    "##### :param maxiter: int maximum iterations to perform for each fitting attempt (larger number gives longer run time)\n",
    "##### :param max_model_size: int largest number of arms per maxwell model to test (going larger tends to give poor and unphysical fits)\n",
    "##### :param fit_sequential: bool whether or not to fit sequentially (cascade fit from previous model as the initial guess of the next) (RECOMMENDED)\n",
    "##### :param num_attempts: int number of fitting attempts to make per fit, larger number will give more statistically significant results, but will take longer\n",
    "##### :return: dict {best_fit, (numpy array of final best fit params), final_cost, (float of final cost for the best fit params), time, (float of time taken to generate best fit)}"
   ]
  },
  {
   "cell_type": "code",
   "execution_count": 5,
   "id": "peripheral-income",
   "metadata": {},
   "outputs": [
    {
     "name": "stderr",
     "output_type": "stream",
     "text": [
      "C:\\Users\\Windows\\anaconda3\\envs\\mat-phys\\lib\\site-packages\\numpy\\core\\fromnumeric.py:87: RuntimeWarning: overflow encountered in reduce\n",
      "  return ufunc.reduce(obj, axis, dtype, out, **passkwargs)\n"
     ]
    },
    {
     "data": {
      "text/plain": [
       "{'final_params': array([2.42900036e+05, 3.55845810e+05, 2.24859981e-03, 5.01254650e+05,\n",
       "        5.11729377e-04]),\n",
       " 'final_cost': 1.0746929275473751e-20,\n",
       " 'time': 32.81090259552002,\n",
       " 'trial_variance': 2.1831146087533536e-25}"
      ]
     },
     "execution_count": 5,
     "metadata": {},
     "output_type": "execute_result"
    }
   ],
   "source": [
    "# fit the maxwellModel instance to the experimental data using Simulated Annealing with a Nelder-Mead local search\n",
    "# at most, perform 500 iterations per fit attempt\n",
    "# the largest possible model will have 3 arms\n",
    "# the model will not be fit sequentially, fitting all the parameters at once\n",
    "# perform 7 fit attempts per model\n",
    "model1.fit_slow(maxiter=500, max_model_size=3, fit_sequential=False, num_attempts=7)"
   ]
  },
  {
   "cell_type": "markdown",
   "id": "african-south",
   "metadata": {},
   "source": [
    "### ----------------\n",
    "### Kelvin-Voigt Fit\n",
    "### ----------------"
   ]
  },
  {
   "cell_type": "markdown",
   "id": "computational-botswana",
   "metadata": {},
   "source": [
    "### kelvinVoigtModel(forces, times, indentations, radii, J_logbounds=(-9, -1), T_logbounds=(-5, 0))\n",
    "\n",
    "##### initializes an instance of the kelvinVoigtModel class used for generating fits, of experimentally obtained force-distance data all belonging to the same sample, to a kelvin-voigt model which corresponds to the sample's viscoelastic behavior\n",
    "##### :param forces: either list of numpy arrays or single numpy array corresponding to the force signals from an AFM\n",
    "##### :param times: either list of numpy arrays or single numpy array corresponding to the time signals from an AFM\n",
    "##### :param indentations: either list of numpy arrays or single numpy array corresponding to the indentation signals from an AFM\n",
    "##### :param radii: either list of floats or single float corresponding to the tip radii of an AFM\n",
    "##### :param J_logbounds: tuple (float, float) high and low log bound for the compliance elements in the model\n",
    "##### :param T_logbounds: tuple (float, float) high and low log bound for the time constants in the model"
   ]
  },
  {
   "cell_type": "code",
   "execution_count": 6,
   "id": "large-purpose",
   "metadata": {},
   "outputs": [],
   "source": [
    "# create a kelvinVoigtModel instance\n",
    "# load the AFM forces, times, indentations, and radii\n",
    "# define the logbounds for J to be between -10 and -5 -> (10^-10, 10^-5)\n",
    "# define the logbounds for T to be between -5 and -3 -> (10^-5, 10^-3)\n",
    "model2 = vf.kelvinVoigtModel(forces=forces, times=times, indentations=indentations, \n",
    "                             radii=radii, J_logbounds=(-10, -5), T_logbounds=(-5, -3))"
   ]
  },
  {
   "cell_type": "markdown",
   "id": "exempt-belarus",
   "metadata": {},
   "source": [
    "### kelvinVoigtModel.fit(maxiter=1000, max_model_size=4, fit_sequential=True, num_attempts=5)\n",
    "\n",
    "##### fit experimental force distance curve(s) to kelvin-voigt model of arbitrary size using a nelder-mead simplex which typically gives good fits rather quickly\n",
    "##### :param maxiter: int maximum iterations to perform for each fitting attempt (larger number gives longer run time)\n",
    "##### :param max_model_size: int largest number of arms per maxwell model to test (going larger tends to give poor and unphysical fits)\n",
    "##### :param fit_sequential: bool whether or not to fit sequentially (cascade fit from previous model as the initial guess of the next) (RECOMMENDED)\n",
    "##### :param num_attempts: int number of fitting attempts to make per fit, larger number will give more statistically significant results, but will take longer\n",
    "##### :return: dict {best_fit, (numpy array of final best fit params), final_cost, (float of final cost for the best fit params), time, (float of time taken to generate best fit)}"
   ]
  },
  {
   "cell_type": "code",
   "execution_count": 7,
   "id": "specific-cuisine",
   "metadata": {},
   "outputs": [
    {
     "name": "stderr",
     "output_type": "stream",
     "text": [
      "C:\\Users\\Windows\\PycharmProjects\\mat-phys\\viscofit.py:394: RuntimeWarning: overflow encountered in exp\n",
      "  retardance = sum(model_params[2::2] / model_params[3::2] * exp(- time_matrix / model_params[3::2]), axis=1) + model_params[1]\n",
      "C:\\Users\\Windows\\PycharmProjects\\mat-phys\\viscofit.py:459: RuntimeWarning: overflow encountered in square\n",
      "  sse = sum((self.LR_scaled_indentation(model_params=model_params) - self.scaled_indentation) ** 2, axis=0)\n"
     ]
    },
    {
     "data": {
      "text/plain": [
       "{'final_params': array([1.00000000e-10, 1.00000000e-10, 4.34523488e-04]),\n",
       " 'final_cost': 2.594801407563215e-15,\n",
       " 'time': 3.370981216430664,\n",
       " 'trial_variance': 2.794528614941764e-23}"
      ]
     },
     "execution_count": 7,
     "metadata": {},
     "output_type": "execute_result"
    }
   ],
   "source": [
    "# fit the kelvinVoigtModel instance to the experimental data using Nelder-Mead\n",
    "# at most, perform 1250 iterations per fit attempt\n",
    "# the largest possible model will have 2 arms\n",
    "# the model will be fit sequentially, starting with a 1 arm, then using the best 1 arm parameters as an initial guess\n",
    "# for the 2 arm model, and the best 2 arm model for the 3 arm model\n",
    "# perform 6 fit attempts per model\n",
    "model2.fit(maxiter=1250, max_model_size=2, fit_sequential=True, num_attempts=6)"
   ]
  },
  {
   "cell_type": "markdown",
   "id": "collectible-treasure",
   "metadata": {},
   "source": [
    "### kelvinVoigtModel.fit_slow(maxiter=1000, max_model_size=4, fit_sequential=True, num_attempts=5)\n",
    "\n",
    "##### fit experimental force distance curve(s) to kelvin-voigt model of arbitrary size using simulated annealing with a nelder-mead simplex local search, this is very computationally costly and will take a very long time though typically results in much better fits\n",
    "##### :param maxiter: int maximum iterations to perform for each fitting attempt (larger number gives longer run time)\n",
    "##### :param max_model_size: int largest number of arms per maxwell model to test (going larger tends to give poor and unphysical fits)\n",
    "##### :param fit_sequential: bool whether or not to fit sequentially (cascade fit from previous model as the initial guess of the next) (RECOMMENDED)\n",
    "##### :param num_attempts: int number of fitting attempts to make per fit, larger number will give more statistically significant results, but will take longer\n",
    "##### :return: dict {best_fit, (numpy array of final best fit params), final_cost, (float of final cost for the best fit params), time, (float of time taken to generate best fit)}"
   ]
  },
  {
   "cell_type": "code",
   "execution_count": 8,
   "id": "religious-monitoring",
   "metadata": {},
   "outputs": [
    {
     "data": {
      "text/plain": [
       "{'final_params': array([1.41206920e-10, 1.07785833e-10, 1.60863499e-04, 5.96726435e-08,\n",
       "        5.28261016e-05]),\n",
       " 'final_cost': 6.267063647833056e-12,\n",
       " 'time': 2.213082790374756,\n",
       " 'trial_variance': 1.827867428306799e-20}"
      ]
     },
     "execution_count": 8,
     "metadata": {},
     "output_type": "execute_result"
    }
   ],
   "source": [
    "# fit the kelvinVoigtModel instance to the experimental data using Simulated Annealing with a Nelder-Mead local search\n",
    "# at most, perform 100 iterations per fit attempt\n",
    "# the largest possible model will have 5 arms\n",
    "# the model will not be fit sequentially, fitting all the parameters at once\n",
    "# perform 3 fit attempts per model\n",
    "model2.fit_slow(maxiter=100, max_model_size=5, fit_sequential=False, num_attempts=3)"
   ]
  },
  {
   "cell_type": "markdown",
   "id": "automated-thesis",
   "metadata": {},
   "source": [
    "### ----------------\n",
    "### Power Law Fit\n",
    "### ----------------"
   ]
  },
  {
   "cell_type": "markdown",
   "id": "apparent-version",
   "metadata": {},
   "source": [
    "### powerLawModel(forces, times, indentations, radii, E0_logbounds=(1, 9), a_logbounds=(-5, 0))\n",
    "\n",
    "##### initializes an instance of the customModel class used for generating fits, of experimentally obtained force-distance data all belonging to the same sample, to a power law rheology model which corresponds to the sample's viscoelastic behavior\n",
    "##### :param forces: either list of numpy arrays or single numpy array corresponding to the force signals from an AFM\n",
    "##### :param times: either list of numpy arrays or single numpy array corresponding to the time signals from an AFM\n",
    "##### :param indentations: either list of numpy arrays or single numpy array corresponding to the indentation signals from an AFM\n",
    "##### :param radii: either list of floats or single float corresponding to the tip radii of an AFM\n",
    "##### :param E0_logbounds: tuple (float, float) high and low log bound for the compliance elements in the model\n",
    "##### :param a_logbounds: tuple (float, float) high and low log bound for the time constants in the model"
   ]
  },
  {
   "cell_type": "code",
   "execution_count": 9,
   "id": "objective-jerusalem",
   "metadata": {},
   "outputs": [],
   "source": [
    "# create a powerLawModel instance\n",
    "# load the AFM forces, times, indentations, and radii\n",
    "# define the logbounds for E0 to be between 1 and 11 -> (10^1, 10^11)\n",
    "# define the logbounds for a to be between -5 and 1 -> (10^-5, 10^1)\n",
    "model3 = vf.powerLawModel(forces=forces, times=times, indentations=indentations, \n",
    "                          radii=radii, E0_logbounds=(1, 11), a_logbounds=(-5, 1))"
   ]
  },
  {
   "cell_type": "markdown",
   "id": "comic-rescue",
   "metadata": {},
   "source": [
    "### powerLawModel.fit(maxiter=1000, num_attempts=5)\n",
    "\n",
    "##### fit experimental force distance curve(s) to power law rheology model using a nelder-mead simplex which typically gives good fits rather quickly\n",
    "##### :param maxiter: int maximum iterations to perform for each fitting attempt (larger number gives longer run time)\n",
    "##### :param num_attempts: int number of fitting attempts to make per fit, larger number will give more statistically significant results, but will take longer\n",
    "##### :return: dict {best_fit, (numpy array of final best fit params), final_cost, (float of final cost for the best fit params), time, (float of time taken to generate best fit)}"
   ]
  },
  {
   "cell_type": "code",
   "execution_count": 10,
   "id": "patient-quantity",
   "metadata": {},
   "outputs": [
    {
     "data": {
      "text/plain": [
       "{'final_params': array([3.5081198e+08, 1.0000000e-05]),\n",
       " 'final_cost': 1.7989097700117333e-07,\n",
       " 'time': 7.545182228088379,\n",
       " 'trial_variance': 4.250522347020523e-24}"
      ]
     },
     "execution_count": 10,
     "metadata": {},
     "output_type": "execute_result"
    }
   ],
   "source": [
    "# fit the powerLawModel instance to the experimental data using Nelder-Mead\n",
    "# at most, perform 2000 iterations per fit attempt\n",
    "# perform 9 fit attempts per model\n",
    "model3.fit(maxiter=2000, num_attempts=9)"
   ]
  },
  {
   "cell_type": "markdown",
   "id": "several-cleveland",
   "metadata": {},
   "source": [
    "### powerLawModel.fit_slow(maxiter=1000, num_attempts=5)\n",
    "\n",
    "##### fit experimental force distance curve(s) to power law rheology model using simulated annealing with a nelder-mead simplex local search, this is very computationally costly and will take a very long time though typically results in much better fits\n",
    "##### :param maxiter: int maximum iterations to perform for each fitting attempt (larger number gives longer run time)\n",
    "##### :param num_attempts: int number of fitting attempts to make per fit, larger number will give more statistically significant results, but will take longer\n",
    "##### :return: dict {best_fit, (numpy array of final best fit params), final_cost, (float of final cost for the best fit params), time, (float of time taken to generate best fit)}"
   ]
  },
  {
   "cell_type": "code",
   "execution_count": 11,
   "id": "rubber-hello",
   "metadata": {},
   "outputs": [
    {
     "data": {
      "text/plain": [
       "{'final_params': array([3.50811978e+08, 1.00000000e-05]),\n",
       " 'final_cost': 1.7989097700117338e-07,\n",
       " 'time': 6.531060457229614,\n",
       " 'trial_variance': 5.892314860816896e-29}"
      ]
     },
     "execution_count": 11,
     "metadata": {},
     "output_type": "execute_result"
    }
   ],
   "source": [
    "# fit the powerLawModel instance to the experimental data using Simulated Annealing with a Nelder-Mead local search\n",
    "# at most, perform 500 iterations per fit attempt\n",
    "# perform 4 fit attempts per model\n",
    "model3.fit_slow(maxiter=500, num_attempts=4)"
   ]
  },
  {
   "cell_type": "markdown",
   "id": "partial-saturn",
   "metadata": {},
   "source": [
    "# --------------------------------------\n",
    "# Fit Custom Defined Models\n",
    "# --------------------------------------"
   ]
  },
  {
   "cell_type": "markdown",
   "id": "focal-invalid",
   "metadata": {},
   "source": [
    "### Define your own function to be fit to the experimental data"
   ]
  },
  {
   "cell_type": "markdown",
   "id": "welsh-mississippi",
   "metadata": {},
   "source": [
    "### customModel(forces, times, indentations, radi)\n",
    "\n",
    "##### initializes an instance of the customModel class used for generating fits, of experimentally obtained force-distance data all belonging to the same sample, to a custom defined rheology model which corresponds to the sample's viscoelastic behavior\n",
    "##### :param forces: either list of numpy arrays or single numpy array corresponding to the force signals from an AFM\n",
    "##### :param times: either list of numpy arrays or single numpy array corresponding to the time signals from an AFM\n",
    "##### :param indentations: either list of numpy arrays or single numpy array corresponding to the indentation signals from an AFM\n",
    "##### :param radii: either list of floats or single float corresponding to the tip radii of an AFM"
   ]
  },
  {
   "cell_type": "code",
   "execution_count": 12,
   "id": "virgin-verse",
   "metadata": {},
   "outputs": [],
   "source": [
    "# create a customModel instance\n",
    "# load the AFM forces, times, indentations, and radii\n",
    "model4 = vf.customModel(forces=forces, times=times, indentations=indentations, radii=radii)"
   ]
  },
  {
   "cell_type": "markdown",
   "id": "fundamental-dylan",
   "metadata": {},
   "source": [
    "### customModel.fit(function, training_data, bounds, maxiter=1000, num_attempts=5)\n",
    "\n",
    "##### fit experimental observable of your choice to a custom model for the observable using a nelder-mead simplex which typically gives good fits rather quickly\n",
    "##### :param function: function for the desired observable to be predicted\n",
    "##### :param training_data: either numpy array or list of numpy arrays the experimental data to be replicated by the function being trained\n",
    "##### :param bounds: (n, 2) numpy array of upper and lower bounds: [[lower1, upper1], ... [lowerN, upperN]]\n",
    "##### :param maxiter: int maximum iterations to perform for each fitting attempt (larger number gives longer run time)\n",
    "##### :param num_attempts: int number of fitting attempts to make per fit, larger number will give more statistically significant results, but will take longer\n",
    "##### :return: dict {best_fit, (numpy array of final best fit params), final_cost, (float of final cost for the best fit params), time, (float of time taken to generate best fit)}"
   ]
  },
  {
   "cell_type": "code",
   "execution_count": 13,
   "id": "noticed-halifax",
   "metadata": {},
   "outputs": [],
   "source": [
    "# define the custom function that the customModel class will fit\n",
    "# in this case, we want to fit a function to predict force, given the radius and indentation signal as well as a\n",
    "# set of parameters\n",
    "\n",
    "def custom_force_func(params):\n",
    "    # VERY IMPORTANT NOTES: \n",
    "    # the function MUST take in parameters as an argument and MUST output a single vector observable (i.e. force here)\n",
    "    # the observables (in this case radius and indentation) MUST come from the observables in the model \n",
    "    # possible obeservables to use in creating custom functions: (model4.radii, model4.indentation, model4.force, model4.dts)\n",
    "    # F( t ) = R * p1 * h( t )^p2\n",
    "    return model4.radii * params[0] * model4.indentation ** params[1]"
   ]
  },
  {
   "cell_type": "code",
   "execution_count": 14,
   "id": "becoming-green",
   "metadata": {},
   "outputs": [],
   "source": [
    "# define the bounds\n",
    "# in the case of the function that we made above: params is a (2, ) numpy array: array([p1, p2])\n",
    "# thus, the bounds must be in the following form:\n",
    "# array([[p1 lower bounds, p1 upper bounds], \n",
    "#        [p2 lower bounds, p2 upper bounds]])\n",
    "\n",
    "bounds = np.array([[1, 100], [0, 10]])"
   ]
  },
  {
   "cell_type": "code",
   "execution_count": 15,
   "id": "fitted-image",
   "metadata": {},
   "outputs": [
    {
     "name": "stderr",
     "output_type": "stream",
     "text": [
      "<ipython-input-13-3ac5fe4fc551>:11: RuntimeWarning: divide by zero encountered in power\n",
      "  return model4.radii * params[0] * model4.indentation ** params[1]\n"
     ]
    },
    {
     "data": {
      "text/plain": [
       "{'final_params': array([1.00000000e+02, 3.23669728e-17]),\n",
       " 'final_cost': 3.1209122964812784e-06,\n",
       " 'time': 1.5965001583099365,\n",
       " 'trial_variance': 3.155048982396588e-13}"
      ]
     },
     "execution_count": 15,
     "metadata": {},
     "output_type": "execute_result"
    }
   ],
   "source": [
    "# fit the customModel instance to the experimental data using Nelder-Mead\n",
    "# define the function to fit as the custom_force_func that we made above\n",
    "# define the training data as the force signal in model4 (we will fit the funciton to this data)\n",
    "# at most, perform 2000 iterations per fit attempt\n",
    "# perform 9 fit attempts per model\n",
    "model4.fit(function=custom_force_func, training_data=model4.force, bounds=bounds, maxiter=2000, num_attempts=9)"
   ]
  },
  {
   "cell_type": "markdown",
   "id": "rough-turning",
   "metadata": {},
   "source": [
    "### customModel.fit_slow(function, training_data, bounds, maxiter=1000, num_attempts=5)\n",
    "        \n",
    "##### fit experimental observable of your choice to a custom model for the observable using simulated annealing with a nelder-mead simplex local search, this is very computationally costly and will take a very long time though typically results in much better fits\n",
    "##### :param function: function for the desired observable to be predicted\n",
    "##### :param training_data: either numpy array or list of numpy arrays the experimental data to be replicated by the function being trained\n",
    "##### :param bounds: (n, 2) numpy array of upper and lower bounds: [[lower1, upper1], ... [lowerN, upperN]]\n",
    "##### :param maxiter: int maximum iterations to perform for each fitting attempt (larger number gives longer run time)\n",
    "##### :param num_attempts: int number of fitting attempts to make per fit, larger number will give more statistically significant results, but will take longer\n",
    "##### :return: dict {best_fit, (numpy array of final best fit params), final_cost, (float of final cost for the best fit params), time, (float of time taken to generate best fit)}"
   ]
  },
  {
   "cell_type": "code",
   "execution_count": 16,
   "id": "major-mounting",
   "metadata": {},
   "outputs": [
    {
     "name": "stderr",
     "output_type": "stream",
     "text": [
      "<ipython-input-13-3ac5fe4fc551>:11: RuntimeWarning: divide by zero encountered in power\n",
      "  return model4.radii * params[0] * model4.indentation ** params[1]\n"
     ]
    },
    {
     "data": {
      "text/plain": [
       "{'final_params': array([9.99998234e+01, 7.93662976e-09]),\n",
       " 'final_cost': 3.1209141832952295e-06,\n",
       " 'time': 2.57759690284729,\n",
       " 'trial_variance': 8.089459584136234e-15}"
      ]
     },
     "execution_count": 16,
     "metadata": {},
     "output_type": "execute_result"
    }
   ],
   "source": [
    "# fit the powerLawModel instance to the experimental data using Simulated Annealing with a Nelder-Mead local search\n",
    "# define the function to fit as the custom_force_func that we made above\n",
    "# define the training data as the force signal in model4 (we will fit the funciton to this data)\n",
    "# at most, perform 1000 iterations per fit attempt\n",
    "# perform 4 fit attempts per model\n",
    "model4.fit_slow(function=custom_force_func, training_data=model4.force, bounds=bounds, maxiter=1000, num_attempts=4)"
   ]
  },
  {
   "cell_type": "markdown",
   "id": "awful-gnome",
   "metadata": {},
   "source": [
    "# Generate Maps"
   ]
  },
  {
   "cell_type": "code",
   "execution_count": null,
   "id": "comparative-ecology",
   "metadata": {},
   "outputs": [],
   "source": []
  }
 ],
 "metadata": {
  "kernelspec": {
   "display_name": "Python 3",
   "language": "python",
   "name": "python3"
  },
  "language_info": {
   "codemirror_mode": {
    "name": "ipython",
    "version": 3
   },
   "file_extension": ".py",
   "mimetype": "text/x-python",
   "name": "python",
   "nbconvert_exporter": "python",
   "pygments_lexer": "ipython3",
   "version": "3.8.5"
  }
 },
 "nbformat": 4,
 "nbformat_minor": 5
}
