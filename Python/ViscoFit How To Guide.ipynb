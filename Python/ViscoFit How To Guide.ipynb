{
 "cells": [
  {
   "cell_type": "code",
   "execution_count": 1,
   "id": "structural-hopkins",
   "metadata": {},
   "outputs": [],
   "source": [
    "import numpy as np\n",
    "import viscofit as vf"
   ]
  },
  {
   "cell_type": "markdown",
   "id": "local-marking",
   "metadata": {},
   "source": [
    "# Load IBW Files"
   ]
  },
  {
   "cell_type": "code",
   "execution_count": 4,
   "id": "widespread-glasgow",
   "metadata": {},
   "outputs": [],
   "source": [
    "###### THIS IS PLACE HOLDER, MUST LOAD AFM DATA\n",
    "times = [np.linspace(0, 1, 1000) for i in range(3)]\n",
    "indentations = [(i + 1) * 100e-9 * t / max(t) for i, t in enumerate(times)]\n",
    "radii = [(i + 1) * 50e-9 for i in range(len(times))]\n",
    "forces = [vf.forceMaxwell_LeeRadok(np.array([1e5, 1e6, 1e-3]), t, h, r) for t, h, r in zip(times, indentations, radii)]"
   ]
  },
  {
   "cell_type": "markdown",
   "id": "placed-processor",
   "metadata": {},
   "source": [
    "# Fit Standard Models"
   ]
  },
  {
   "cell_type": "markdown",
   "id": "floppy-aerospace",
   "metadata": {},
   "source": [
    "### ----------------\n",
    "### Maxwell Fit\n",
    "### ----------------"
   ]
  },
  {
   "cell_type": "markdown",
   "id": "seasonal-ability",
   "metadata": {},
   "source": [
    "### maxwellModel(forces, times, indentations, radii, E_logbounds=(1, 9), T_logbounds=(-5, 0)\n",
    "\n",
    "##### initializes an instance of the maxwellModel class used for generating fits, of experimentally obtained force-distance data all belonging to the same sample, to a maxwell model which corresponds to the sample's viscoelastic behavior\n",
    "##### :param forces: either list of numpy arrays or single numpy array corresponding to the force signals from an AFM\n",
    "##### :param times: either list of numpy arrays or single numpy array corresponding to the time signals from an AFM\n",
    "##### :param indentations: either list of numpy arrays or single numpy array corresponding to the indentation signals from an AFM\n",
    "##### :param radii: either list of floats or single float corresponding to the tip radii of an AFM\n",
    "##### :param E_logbounds: tuple (float, float) high and low log bound for the elastic elements in the model\n",
    "##### :param T_logbounds: tuple (float, float) high and low log bound for the time constants in the model"
   ]
  },
  {
   "cell_type": "code",
   "execution_count": 9,
   "id": "unique-tuesday",
   "metadata": {},
   "outputs": [],
   "source": [
    "# create a maxwellModel instance\n",
    "# load the AFM forces, times, indentations, and radii\n",
    "# define the logbounds for E to be between 4 and 7 -> (10^4, 10^7)\n",
    "# define the logbounds for T to be between -4 and -2 -> (10^-4, 10^-2)\n",
    "model1 = vf.maxwellModel(forces=forces, times=times, indentations=indentations, \n",
    "                         radii=radii, E_logbounds=(4, 7), T_logbounds=(-4, -2))"
   ]
  },
  {
   "cell_type": "markdown",
   "id": "racial-strategy",
   "metadata": {},
   "source": [
    "### maxwellModel.fit(maxiter=1000, max_model_size=4, fit_sequential=True, num_attempts=5)\n",
    "\n",
    "##### fit experimental force distance curve(s) to maxwell model of arbitrary size using a nelder-mead simplex which typically gives good fits rather quickly\n",
    "##### :param maxiter: int maximum iterations to perform for each fitting attempt (larger number gives longer run time)\n",
    "##### :param max_model_size: int largest number of arms per maxwell model to test (going larger tends to give poor and unphysical fits)\n",
    "##### :param fit_sequential: bool whether or not to fit sequentially (cascade fit from previous model as the initial guess of the next) (RECOMMENDED)\n",
    "##### :param num_attempts: int number of fitting attempts to make per fit, larger number will give more statistically significant results, but will take longer\n",
    "##### :return: dict {best_fit, (numpy array of final best fit params), final_cost, (float of final cost for the best fit params), time, (float of time taken to generate best fit)}"
   ]
  },
  {
   "cell_type": "code",
   "execution_count": 10,
   "id": "thermal-lender",
   "metadata": {},
   "outputs": [
    {
     "name": "stderr",
     "output_type": "stream",
     "text": [
      "C:\\Users\\Windows\\PycharmProjects\\mat-phys\\viscofit.py:164: RuntimeWarning: overflow encountered in exp\n",
      "  relaxance = - sum(model_params[1::2] / model_params[2::2] * exp(- time_matrix / model_params[2::2]), axis=1)\n",
      "C:\\Users\\Windows\\PycharmProjects\\mat-phys\\viscofit.py:164: RuntimeWarning: overflow encountered in multiply\n",
      "  relaxance = - sum(model_params[1::2] / model_params[2::2] * exp(- time_matrix / model_params[2::2]), axis=1)\n",
      "C:\\Users\\Windows\\PycharmProjects\\mat-phys\\viscofit.py:222: RuntimeWarning: overflow encountered in square\n",
      "  sse = sum((self.LR_force(model_params=model_params) - self.force) ** 2, axis=0)\n",
      "C:\\Users\\Windows\\PycharmProjects\\mat-phys\\viscofit.py:158: RuntimeWarning: overflow encountered in exp\n",
      "  relaxance = - sum(model_params[0::2] / model_params[1::2] * exp(- time_matrix / model_params[1::2]), axis=1)\n",
      "C:\\Users\\Windows\\PycharmProjects\\mat-phys\\viscofit.py:158: RuntimeWarning: overflow encountered in multiply\n",
      "  relaxance = - sum(model_params[0::2] / model_params[1::2] * exp(- time_matrix / model_params[1::2]), axis=1)\n"
     ]
    },
    {
     "data": {
      "text/plain": [
       "{'final_params': array([1.32859268e+05, 9.21688302e+05, 8.95043599e-04, 4.54524461e+04,\n",
       "        3.96168046e-03]),\n",
       " 'final_cost': 5.492277694323846e-23,\n",
       " 'time': 7.997998237609863,\n",
       " 'trial_variance': 2.6098571947889565e-30}"
      ]
     },
     "execution_count": 10,
     "metadata": {},
     "output_type": "execute_result"
    }
   ],
   "source": [
    "# fit the maxwellModel instance to the experimental data using Nelder-Mead\n",
    "# at most, perform 1000 iterations per fit attempt\n",
    "# the largest possible model will have 3 arms\n",
    "# the model will be fit sequentially, starting with a 1 arm, then using the best 1 arm parameters as an initial guess\n",
    "# for the 2 arm model, and the best 2 arm model for the 3 arm model\n",
    "# perform 10 fit attempts per model\n",
    "model1.fit(maxiter=1000, max_model_size=3, fit_sequential=True, num_attempts=10)"
   ]
  },
  {
   "cell_type": "markdown",
   "id": "played-modern",
   "metadata": {},
   "source": [
    "### maxwellModel.fit_slow(self, maxiter=1000, max_model_size=4, fit_sequential=True, num_attempts=5)\n",
    "\n",
    "##### fit experimental force distance curve(s) to maxwell model of arbitrary size using simulated annealing with a nelder-mead simplex local search, this is very computationally costly and will take a very long time though typically results in much better fits\n",
    "\n",
    "##### :param maxiter: int maximum iterations to perform for each fitting attempt (larger number gives longer run time)\n",
    "##### :param max_model_size: int largest number of arms per maxwell model to test (going larger tends to give poor and unphysical fits)\n",
    "##### :param fit_sequential: bool whether or not to fit sequentially (cascade fit from previous model as the initial guess of the next) (RECOMMENDED)\n",
    "##### :param num_attempts: int number of fitting attempts to make per fit, larger number will give more statistically significant results, but will take longer\n",
    "##### :return: dict {best_fit, (numpy array of final best fit params), final_cost, (float of final cost for the best fit params), time, (float of time taken to generate best fit)}"
   ]
  },
  {
   "cell_type": "code",
   "execution_count": null,
   "id": "appropriate-turning",
   "metadata": {},
   "outputs": [],
   "source": [
    "# fit the maxwellModel instance to the experimental data using Simulated Annealing with a Nelder-Mead local search\n",
    "# at most, perform 500 iterations per fit attempt\n",
    "# the largest possible model will have 3 arms\n",
    "# the model will not be fit sequentially, fitting all the parameters at once\n",
    "# perform 7 fit attempts per model\n",
    "model1.fit_slow(maxiter=500, max_model_size=3, fit_sequential=False, num_attempts=7)"
   ]
  },
  {
   "cell_type": "markdown",
   "id": "hazardous-cincinnati",
   "metadata": {},
   "source": [
    "### ----------------\n",
    "### Kelvin-Voigt Fit\n",
    "### ----------------"
   ]
  },
  {
   "cell_type": "markdown",
   "id": "saved-cleveland",
   "metadata": {},
   "source": [
    "### kelvinVoigtModel(forces, times, indentations, radii, J_logbounds=(-9, -1), T_logbounds=(-5, 0))\n",
    "\n",
    "##### initializes an instance of the kelvinVoigtModel class used for generating fits, of experimentally obtained force-distance data all belonging to the same sample, to a kelvin-voigt model which corresponds to the sample's viscoelastic behavior\n",
    "##### :param forces: either list of numpy arrays or single numpy array corresponding to the force signals from an AFM\n",
    "##### :param times: either list of numpy arrays or single numpy array corresponding to the time signals from an AFM\n",
    "##### :param indentations: either list of numpy arrays or single numpy array corresponding to the indentation signals from an AFM\n",
    "##### :param radii: either list of floats or single float corresponding to the tip radii of an AFM\n",
    "##### :param J_logbounds: tuple (float, float) high and low log bound for the compliance elements in the model\n",
    "##### :param T_logbounds: tuple (float, float) high and low log bound for the time constants in the model"
   ]
  },
  {
   "cell_type": "code",
   "execution_count": null,
   "id": "dress-latex",
   "metadata": {},
   "outputs": [],
   "source": [
    "# create a kelvinVoigtModel instance\n",
    "# load the AFM forces, times, indentations, and radii\n",
    "# define the logbounds for E to be between 4 and 7 -> (10^4, 10^7)\n",
    "# define the logbounds for T to be between -4 and -2 -> (10^-4, 10^-2)\n",
    "model1 = vf.maxwellModel(forces=forces, times=times, indentations=indentations, \n",
    "                         radii=radii, E_logbounds=(4, 7), T_logbounds=(-4, -2))"
   ]
  },
  {
   "cell_type": "code",
   "execution_count": null,
   "id": "agreed-identifier",
   "metadata": {},
   "outputs": [],
   "source": []
  },
  {
   "cell_type": "code",
   "execution_count": null,
   "id": "scientific-librarian",
   "metadata": {},
   "outputs": [],
   "source": []
  },
  {
   "cell_type": "code",
   "execution_count": null,
   "id": "cellular-religion",
   "metadata": {},
   "outputs": [],
   "source": []
  },
  {
   "cell_type": "code",
   "execution_count": null,
   "id": "viral-interface",
   "metadata": {},
   "outputs": [],
   "source": []
  },
  {
   "cell_type": "markdown",
   "id": "alike-volume",
   "metadata": {},
   "source": [
    "# Fit Custom Defined Models"
   ]
  },
  {
   "cell_type": "code",
   "execution_count": null,
   "id": "plastic-growth",
   "metadata": {},
   "outputs": [],
   "source": []
  },
  {
   "cell_type": "markdown",
   "id": "entitled-tucson",
   "metadata": {},
   "source": [
    "# Generate Maps"
   ]
  },
  {
   "cell_type": "code",
   "execution_count": null,
   "id": "second-native",
   "metadata": {},
   "outputs": [],
   "source": []
  }
 ],
 "metadata": {
  "kernelspec": {
   "display_name": "Python 3",
   "language": "python",
   "name": "python3"
  },
  "language_info": {
   "codemirror_mode": {
    "name": "ipython",
    "version": 3
   },
   "file_extension": ".py",
   "mimetype": "text/x-python",
   "name": "python",
   "nbconvert_exporter": "python",
   "pygments_lexer": "ipython3",
   "version": "3.8.5"
  }
 },
 "nbformat": 4,
 "nbformat_minor": 5
}
